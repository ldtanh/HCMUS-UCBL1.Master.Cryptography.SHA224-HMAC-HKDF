{
 "cells": [
  {
   "cell_type": "markdown",
   "id": "d60f52da-9f43-4bae-8835-ac93e3dcfd37",
   "metadata": {},
   "source": [
    "# SHA224"
   ]
  },
  {
   "cell_type": "code",
   "execution_count": 229,
   "id": "bfc30e63-6018-4722-8c8d-46d2ec79f04d",
   "metadata": {},
   "outputs": [],
   "source": [
    "import textwrap\n",
    "wsize = 32\n",
    "# some functions\n",
    "def ROTR(x, n):\n",
    "    return ((x << (wsize - n)) & (2 ** wsize - 1)) | (x >> n)\n",
    "\n",
    "def CH(x,y,z):\n",
    "    return (x & y) ^ (~x & z)\n",
    "\n",
    "def MAJ(x,y,z):\n",
    "    return (x & y) ^ (x & z) ^ (y & z)\n",
    "\n",
    "def BSIG0(x):\n",
    "    return ROTR(x,2) ^ ROTR(x,13) ^ ROTR(x,22)\n",
    "\n",
    "def BSIG1(x):\n",
    "    return ROTR(x,6) ^ ROTR(x,11) ^ ROTR(x,25)\n",
    "\n",
    "def SSIG0(x):\n",
    "    return ROTR(x,7) ^ ROTR(x,18) ^ (x >> 3)\n",
    "\n",
    "def SSIG1(x):\n",
    "    return ROTR(x,17) ^ ROTR(x,19) ^ (x >> 10)\n",
    "\n",
    "# K Constants\n",
    "K = [\n",
    "    0x428a2f98, 0x71374491, 0xb5c0fbcf, 0xe9b5dba5, 0x3956c25b, 0x59f111f1, 0x923f82a4, 0xab1c5ed5,\n",
    "    0xd807aa98, 0x12835b01, 0x243185be, 0x550c7dc3, 0x72be5d74, 0x80deb1fe, 0x9bdc06a7, 0xc19bf174,\n",
    "    0xe49b69c1, 0xefbe4786, 0x0fc19dc6, 0x240ca1cc, 0x2de92c6f, 0x4a7484aa, 0x5cb0a9dc, 0x76f988da,\n",
    "    0x983e5152, 0xa831c66d, 0xb00327c8, 0xbf597fc7, 0xc6e00bf3, 0xd5a79147, 0x06ca6351, 0x14292967,\n",
    "    0x27b70a85, 0x2e1b2138, 0x4d2c6dfc, 0x53380d13, 0x650a7354, 0x766a0abb, 0x81c2c92e, 0x92722c85,\n",
    "    0xa2bfe8a1, 0xa81a664b, 0xc24b8b70, 0xc76c51a3, 0xd192e819, 0xd6990624, 0xf40e3585, 0x106aa070,\n",
    "    0x19a4c116, 0x1e376c08, 0x2748774c, 0x34b0bcb5, 0x391c0cb3, 0x4ed8aa4a, 0x5b9cca4f, 0x682e6ff3,\n",
    "    0x748f82ee, 0x78a5636f, 0x84c87814, 0x8cc70208, 0x90befffa, 0xa4506ceb, 0xbef9a3f7, 0xc67178f2\n",
    "]\n",
    "\n",
    "\n",
    "def sha_224(data):\n",
    "    H = [\n",
    "        0xc1059ed8,\n",
    "        0x367cd507,\n",
    "        0x3070dd17,\n",
    "        0xf70e5939,\n",
    "        0xffc00b31,\n",
    "        0x68581511,\n",
    "        0x64f98fa7,\n",
    "        0xbefa4fa4\n",
    "    ]\n",
    "\n",
    "    raw_msg = \"\".join(f'{msg:0>8b}' for msg in data)\n",
    "    \n",
    "    # Appended \"1\" to message\n",
    "    full_msg = raw_msg + '1'\n",
    "    L = len(full_msg)\n",
    "\n",
    "    # Find K0s\n",
    "    K0s = L % 512\n",
    "    if K0s <= 448:\n",
    "        K0s = 448 - K0s\n",
    "    else:\n",
    "        K0s = 512 - K0s + 448\n",
    "    # Append K \"0\" to msg\n",
    "    full_msg = full_msg + \"0\"*K0s\n",
    "    L = len(raw_msg)\n",
    "    full_msg = full_msg + '{:064b}'.format(L)\n",
    "    \n",
    "    for chunk in textwrap.wrap(full_msg, 512):\n",
    "        # Split msg to 512-bit\n",
    "        w = []\n",
    "        wsize = 32\n",
    "        for t in range(16):\n",
    "            x = chunk[t*wsize:(t+1)*wsize]\n",
    "            w.append(int(x, 2))\n",
    "        \n",
    "        for t in range(16, 64):\n",
    "            w.append((SSIG1(w[t-2]) + w[t-7] + SSIG0(w[t-15]) + w[t-16]) % 2**wsize)\n",
    "        \n",
    "        \n",
    "        # init working vars\n",
    "        a,b,c,d,e,f,g,h = H\n",
    "\n",
    "        # hash computation        \n",
    "        for t in range(64):\n",
    "            T1 = (h + BSIG1(e) + CH(e,f,g) + K[t] + w[t]) % 2**wsize # keep in 32-bits\n",
    "            T2 = (BSIG0(a) + MAJ(a,b,c)) % 2**wsize\n",
    "            h = g\n",
    "            g = f\n",
    "            f = e\n",
    "            e = (d + T1) % 2**wsize \n",
    "            d = c\n",
    "            c = b\n",
    "            b = a\n",
    "            a = (T1 + T2) % 2**wsize\n",
    "\n",
    "        # recompute intermediate hash value\n",
    "        H[0] = (H[0] + a) % 2**wsize\n",
    "        H[1] = (H[1] + b) % 2**wsize\n",
    "        H[2] = (H[2] + c) % 2**wsize\n",
    "        H[3] = (H[3] + d) % 2**wsize\n",
    "        H[4] = (H[4] + e) % 2**wsize\n",
    "        H[5] = (H[5] + f) % 2**wsize\n",
    "        H[6] = (H[6] + g) % 2**wsize\n",
    "        H[7] = (H[7] + h) % 2**wsize\n",
    "    \n",
    "    return bytes.fromhex(\"\".join(f'{h:08x}' for h in H[:7]))"
   ]
  },
  {
   "cell_type": "code",
   "execution_count": 230,
   "id": "ae382ee3-02d2-4f17-bc1e-5f1ae34bd11f",
   "metadata": {},
   "outputs": [
    {
     "data": {
      "text/plain": [
       "'a3ebd32627426cb20637b527d4397ead69a450624a0bffabd752dab5'"
      ]
     },
     "execution_count": 230,
     "metadata": {},
     "output_type": "execute_result"
    }
   ],
   "source": [
    "st = \"abcd1234@#$%\"*128\n",
    "sha_224(st.encode('utf-8')).hex()"
   ]
  },
  {
   "cell_type": "code",
   "execution_count": 227,
   "id": "223919d7-f7ed-4315-a160-bf8e2f72b89a",
   "metadata": {},
   "outputs": [
    {
     "data": {
      "text/plain": [
       "'a3ebd32627426cb20637b527d4397ead69a450624a0bffabd752dab5'"
      ]
     },
     "execution_count": 227,
     "metadata": {},
     "output_type": "execute_result"
    }
   ],
   "source": [
    "import hashlib\n",
    "hashlib.sha224(st.encode('utf-8')).digest().hex()"
   ]
  },
  {
   "cell_type": "markdown",
   "id": "5b135b74-5d1f-4218-b043-34933b68a5f7",
   "metadata": {},
   "source": [
    "# HMAC"
   ]
  },
  {
   "cell_type": "code",
   "execution_count": 260,
   "id": "a73bd048-6231-4a29-baf5-ce723e3d345d",
   "metadata": {},
   "outputs": [],
   "source": [
    "def hmac_sha224(key, msg):\n",
    "    # generate k0\n",
    "    B = 64\n",
    "    # check and hash if K is longer than B\n",
    "    if len(key) > B:\n",
    "        key = sha_224(key)\n",
    "    \n",
    "    # padding if K is less than B\n",
    "    key = key + b'\\x00'*(B - len(key))\n",
    "    \n",
    "    # step 4, 7\n",
    "    \n",
    "    ipad = bytes((x ^ 0x36) for x in key)\n",
    "    opad = bytes((x ^ 0x5c) for x in key)\n",
    "    # step 5,6\n",
    "    ipad_msg = sha_224(ipad + msg)\n",
    "    # step 8, 9\n",
    "    return sha_224(opad + ipad_msg)"
   ]
  },
  {
   "cell_type": "code",
   "execution_count": 275,
   "id": "785d5889-c5d7-4591-a2c1-2e321d9c9dab",
   "metadata": {},
   "outputs": [
    {
     "data": {
      "text/plain": [
       "'105976e7a9d72d1578ece881335671441cf84dcff393937aafd0da63'"
      ]
     },
     "execution_count": 275,
     "metadata": {},
     "output_type": "execute_result"
    }
   ],
   "source": [
    "key = 'abcd1234@#$%()*&' * 16\n",
    "st = 'HCMUS@2021' * 512\n",
    "hmac_sha224(key=key.encode('utf-8'), msg=st.encode('utf-8')).hex()"
   ]
  },
  {
   "cell_type": "code",
   "execution_count": 276,
   "id": "64f83963-03a6-4929-a1b8-f338fb9a625c",
   "metadata": {},
   "outputs": [
    {
     "data": {
      "text/plain": [
       "'105976e7a9d72d1578ece881335671441cf84dcff393937aafd0da63'"
      ]
     },
     "execution_count": 276,
     "metadata": {},
     "output_type": "execute_result"
    }
   ],
   "source": [
    "import hmac\n",
    "hmac.new(key=key.encode('utf-8'), msg=st.encode('utf-8'), digestmod=hashlib.sha224).digest().hex()"
   ]
  },
  {
   "cell_type": "markdown",
   "id": "aa0c888d-254e-4b5e-b208-b366cfe38dd1",
   "metadata": {},
   "source": [
    "# HKDF"
   ]
  },
  {
   "cell_type": "code",
   "execution_count": 290,
   "id": "9cd2d8c1-27e1-4c00-a7df-66883da1234a",
   "metadata": {},
   "outputs": [],
   "source": [
    "from math import ceil\n",
    "def hkdf_extract(ikm, salt = b''):\n",
    "    # return: prk\n",
    "    hash_length = 28 # Hashlength SHA-224\n",
    "    if len(salt) == 0:\n",
    "        salt = bytes(0x0 * hash_length)\n",
    "    return hmac_sha224(\n",
    "        key=salt,\n",
    "        msg=ikm,\n",
    "    )\n",
    "\n",
    "def hkdf_expand(prk, L, info = b''):\n",
    "    hash_length = 28 # Hashlength SHA-224\n",
    "    if (L > 255*hash_length):\n",
    "        raise Exception('Error: L <= 255*hash_length')\n",
    "    n = ceil(L/hash_length)\n",
    "    t = b\"\"\n",
    "    okm = b\"\"\n",
    "    \n",
    "    for i in range(n):\n",
    "        t = hmac_sha224(\n",
    "            key=prk,\n",
    "            msg=(t + info + bytes([1+i]))\n",
    "        )\n",
    "\n",
    "        okm += t\n",
    "    return okm[:L]"
   ]
  },
  {
   "cell_type": "code",
   "execution_count": 321,
   "id": "b5608598-93e1-4b3c-9490-c0e4a8b16c92",
   "metadata": {},
   "outputs": [
    {
     "name": "stdout",
     "output_type": "stream",
     "text": [
      "prk = 88c970a4f798684a1100e5fdd55ea3ec99181a51d4c6fb5a98fdd626\n",
      "okm = 1c30d7e32670e883\n"
     ]
    }
   ],
   "source": [
    "ikm = ('HCMUS@2021').encode('utf-8')\n",
    "salt = bytes.fromhex('ffffffff')\n",
    "\n",
    "prk = hkdf_extract(ikm, salt)\n",
    "print('prk =', prk.hex())\n",
    "\n",
    "info = bytes.fromhex('0123456789fedcba')\n",
    "L = 8\n",
    "okm = hkdf_expand(prk, L, info)\n",
    "print('okm =', okm.hex())"
   ]
  }
 ],
 "metadata": {
  "kernelspec": {
   "display_name": "Python 3",
   "language": "python",
   "name": "python3"
  },
  "language_info": {
   "codemirror_mode": {
    "name": "ipython",
    "version": 3
   },
   "file_extension": ".py",
   "mimetype": "text/x-python",
   "name": "python",
   "nbconvert_exporter": "python",
   "pygments_lexer": "ipython3",
   "version": "3.6.8"
  }
 },
 "nbformat": 4,
 "nbformat_minor": 5
}
